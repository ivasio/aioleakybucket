{
 "cells": [
  {
   "cell_type": "markdown",
   "metadata": {
    "slideshow": {
     "slide_type": "slide"
    }
   },
   "source": [
    "# Qaio\n",
    "### Асинхронная очередь задач и планировщик асинхронных сопрограмм в Python"
   ]
  },
  {
   "cell_type": "markdown",
   "metadata": {
    "slideshow": {
     "slide_type": "slide"
    }
   },
   "source": [
    "## Асинхронная очередь задач : проблема"
   ]
  },
  {
   "cell_type": "markdown",
   "metadata": {
    "slideshow": {
     "slide_type": "subslide"
    }
   },
   "source": [
    "Разработка очереди задач, которая была бы\n",
    "- Персистентной, отказоустойчивой\n",
    "- Легко развертываемой\n",
    "- Быстрой\n"
   ]
  },
  {
   "cell_type": "markdown",
   "metadata": {
    "slideshow": {
     "slide_type": "subslide"
    }
   },
   "source": [
    "Направления работы :\n",
    "- Улучшение имевшегося наброска библиотеки на Redis\n",
    "- Реализация очереди на Tarantool\n"
   ]
  },
  {
   "cell_type": "markdown",
   "metadata": {
    "slideshow": {
     "slide_type": "slide"
    }
   },
   "source": [
    "## Интерфейс очереди задач"
   ]
  },
  {
   "cell_type": "code",
   "execution_count": 8,
   "metadata": {
    "slideshow": {
     "slide_type": "subslide"
    }
   },
   "outputs": [
    {
     "data": {
      "text/plain": [
       "'Some payload string'"
      ]
     },
     "execution_count": 8,
     "metadata": {},
     "output_type": "execute_result"
    }
   ],
   "source": [
    "import aioredis\n",
    "import aioredisqueue\n",
    "\n",
    "redis = await aioredis.create_redis(('localhost', 6379), db=0)\n",
    "queue = aioredisqueue.queue.Queue(redis, key_prefix='test_queue')\n",
    "\n",
    "await queue.put('Some payload string')\n",
    "task = await queue.get()\n",
    "await task.ack()\n",
    "task.payload"
   ]
  },
  {
   "cell_type": "markdown",
   "metadata": {
    "slideshow": {
     "slide_type": "slide"
    }
   },
   "source": [
    "## Redis : обзор возможностей и проблем\n",
    "- Key-value хранилище\n",
    "- Типы данных : списки\n",
    "- Изоляция транзакций : multi/exec и Lua scripting"
   ]
  },
  {
   "cell_type": "markdown",
   "metadata": {
    "slideshow": {
     "slide_type": "slide"
    }
   },
   "source": [
    "## Redis : реализованный функционал\n",
    "### Сериализация"
   ]
  },
  {
   "cell_type": "markdown",
   "metadata": {
    "slideshow": {
     "slide_type": "subslide"
    }
   },
   "source": [
    "### Доступные по умолчанию методы : raw, pickle, json"
   ]
  },
  {
   "cell_type": "code",
   "execution_count": 9,
   "metadata": {
    "slideshow": {
     "slide_type": "fragment"
    }
   },
   "outputs": [
    {
     "data": {
      "text/plain": [
       "{'a': 1, '2': ['b', [13]]}"
      ]
     },
     "execution_count": 9,
     "metadata": {},
     "output_type": "execute_result"
    }
   ],
   "source": [
    "queue = aioredisqueue.queue.Queue(redis, serialization_method='pickle')\n",
    "await queue.put({'a': 1, '2': ['b', [13]]})\n",
    "task = await queue.get()\n",
    "await task.ack()\n",
    "task.payload"
   ]
  },
  {
   "cell_type": "code",
   "execution_count": 10,
   "metadata": {
    "slideshow": {
     "slide_type": "fragment"
    }
   },
   "outputs": [
    {
     "data": {
      "text/plain": [
       "b'binary string'"
      ]
     },
     "execution_count": 10,
     "metadata": {},
     "output_type": "execute_result"
    }
   ],
   "source": [
    "await queue.put(b'binary string', serialization_method='raw')\n",
    "task = await queue.get()\n",
    "await task.ack()\n",
    "task.payload"
   ]
  },
  {
   "cell_type": "markdown",
   "metadata": {
    "slideshow": {
     "slide_type": "subslide"
    }
   },
   "source": [
    "### Возможность регистрировать пользовательские методы"
   ]
  },
  {
   "cell_type": "code",
   "execution_count": 12,
   "metadata": {
    "slideshow": {
     "slide_type": "fragment"
    }
   },
   "outputs": [
    {
     "data": {
      "text/plain": [
       "42"
      ]
     },
     "execution_count": 12,
     "metadata": {},
     "output_type": "execute_result"
    }
   ],
   "source": [
    "import json\n",
    "from aioredisqueue.serializers import register\n",
    "\n",
    "register('my_serializer', json.loads, lambda payload: payload)\n",
    "\n",
    "await queue.put('{\"a\": 42}', serialization_method='my_serializer')\n",
    "task = await queue.get()\n",
    "await task.ack()\n",
    "task.payload['a']"
   ]
  },
  {
   "cell_type": "markdown",
   "metadata": {
    "slideshow": {
     "slide_type": "slide"
    }
   },
   "source": [
    "## Background requeueing\n",
    "Улучшена очистка очереди от взятых, но не завершенных по таймауту задач"
   ]
  },
  {
   "cell_type": "markdown",
   "metadata": {
    "slideshow": {
     "slide_type": "slide"
    }
   },
   "source": [
    "# Tarantool"
   ]
  },
  {
   "cell_type": "markdown",
   "metadata": {
    "slideshow": {
     "slide_type": "subslide"
    }
   },
   "source": [
    "- NoSQL хранилище и сервер приложений на Lua\n",
    "- Lua - основной скриптовый язык\n",
    "- Много готовых Lua модули от разработчиков, в том числе модуль очереди\n",
    "- Асинхронность поддерживается на уровне чтения из базы данных"
   ]
  },
  {
   "cell_type": "markdown",
   "metadata": {
    "slideshow": {
     "slide_type": "subslide"
    }
   },
   "source": [
    "Проблемы, с которыми пришлось столкнуться\n",
    "- Малое внимание от разработчиков к экосистеме проекта\n",
    "- Отсутствие официального асинхронного коннектора для Python\n",
    "- Ошибки в неофициальных коннекторе и библиотеке для очередей от разработчика Tarantool\n",
    "- Сложность конфигурации инстансов Tarantool для этой задачи"
   ]
  },
  {
   "cell_type": "markdown",
   "metadata": {
    "slideshow": {
     "slide_type": "slide"
    }
   },
   "source": [
    "# Перспективы\n",
    "- Использование нового типа данных Redis - streams\n",
    "- Реализация в Redis настраиваемых таймаутов для задач\n",
    "- Использование библиотек для Tarantool от сторонних разработчиков или написание своих"
   ]
  },
  {
   "cell_type": "markdown",
   "metadata": {
    "slideshow": {
     "slide_type": "slide"
    }
   },
   "source": [
    "# Планировщик асинхронных сопрограмм (корутин)"
   ]
  },
  {
   "cell_type": "markdown",
   "metadata": {
    "slideshow": {
     "slide_type": "subslide"
    }
   },
   "source": [
    "- Асинхронная обработка запросов упирается в вычисления с ограниченной скоростью работы\n",
    "- Ограничение количества и планировка вызовов корутин\n",
    "- Троттлинг запросов в nginx : leaky bucket + delay"
   ]
  },
  {
   "cell_type": "raw",
   "metadata": {
    "slideshow": {
     "slide_type": "subslide"
    }
   },
   "source": [
    "limit_req_zone $binary_remote_addr zone=ip:10m rate=5r/s;\n",
    "\n",
    "server {\n",
    "    listen 80;\n",
    "    location / {\n",
    "        limit_req zone=ip burst=12 delay=8;\n",
    "        proxy_pass http://website;\n",
    "    }\n",
    "}"
   ]
  },
  {
   "cell_type": "markdown",
   "metadata": {
    "slideshow": {
     "slide_type": "fragment"
    }
   },
   "source": [
    "![Alt text](nginx.png)"
   ]
  },
  {
   "cell_type": "markdown",
   "metadata": {
    "slideshow": {
     "slide_type": "slide"
    }
   },
   "source": [
    "## Статический эмулятор шедулера\n",
    "As simple as this :"
   ]
  },
  {
   "cell_type": "code",
   "execution_count": 82,
   "metadata": {
    "slideshow": {
     "slide_type": "subslide"
    }
   },
   "outputs": [
    {
     "name": "stdout",
     "output_type": "stream",
     "text": [
      "(0.1, 0, '/login')  =>  (0.1, 0, True, 0.0, 1)\n",
      "(0.2, 0, '/login')  =>  (0.2, 0, True, 0.0, 2)\n",
      "(0.3, 0, '/login')  =>  (0.3, 0, True, 0.0, 3)\n",
      "(0.4, 0, '/login')  =>  (0.4, 0, True, 0.0, 3)\n",
      "(0.42, 0, '/login')  =>  (0.42, 0, True, 0.0, 4)\n",
      "(0.6, 0, '/login')  =>  (0.6, 0, True, 0.0, 4)\n",
      "(0.7, 0, '/login')  =>  (0.7, 0, True, 0.0, 5)\n",
      "(0.73, 0, '/login')  =>  (0.73, 0, True, 0.0, 5)\n",
      "(0.8, 0, '/login')  =>  (0.8, 0, True, 0.0, 6)\n",
      "(0.82, 0, '/login')  =>  (0.82, 0, True, 0.0, 7)\n",
      "(0.9, 0, '/login')  =>  (0.9, 0, True, 0.0, 7)\n",
      "(1.1, 0, '/login')  =>  (1.1, 0, True, 0.0, 7)\n",
      "(1.2, 0, '/login')  =>  (1.2, 0, True, 0.0, 8)\n",
      "(1.3, 0, '/login')  =>  (1.3, 0, True, 0.0, 8)\n",
      "(1.5, 0, '/login')  =>  (1.5, 0, True, 0.0, 8)\n",
      "(1.6, 0, '/login')  =>  (1.6, 0, True, 0.19999999999999996, 9)\n",
      "(1.7, 0, '/login')  =>  (1.7, 0, True, 0.30000000000000004, 9)\n",
      "(1.85, 0, '/login')  =>  (1.85, 0, True, 0.3500000000000001, 10)\n",
      "(1.9, 0, '/login')  =>  (1.9, 0, True, 0.5000000000000004, 10)\n",
      "(2.1, 0, '/login')  =>  (2.1, 0, True, 0.5000000000000004, 10)\n",
      "(2.3, 0, '/login')  =>  (2.3, 0, True, 0.5000000000000009, 10)\n",
      "(2.4, 0, '/login')  =>  (2.4, 0, True, 0.600000000000001, 11)\n",
      "(2.5, 0, '/login')  =>  (2.5, 0, True, 0.7000000000000011, 11)\n",
      "(2.7, 0, '/login')  =>  (2.7, 0, True, 0.7000000000000011, 11)\n",
      "(2.8, 0, '/login')  =>  (2.8, 0, True, 0.8000000000000016, 12)\n"
     ]
    }
   ],
   "source": [
    "from aioleakybucket import static\n",
    "\n",
    "zones = {'login': {'size': 1000, 'rate': 5}}\n",
    "resources = {'/login': {'zone': 'login', 'burst': 12, 'delay': 8}}\n",
    "limiter = static.RequestLimiter(zones, resources)\n",
    "\n",
    "request_times = [0.1, 0.2, 0.3, 0.4, 0.42, 0.6, 0.7, 0.73, 0.8, 0.82, 0.9, 1.1, 1.2, 1.3, 1.5, 1.6, \n",
    "                 1.7, 1.85, 1.9, 2.1, 2.3, 2.4, 2.5, 2.7, 2.8]\n",
    "requests = [(time, 0, '/login') for time in request_times]\n",
    "\n",
    "for request in requests:\n",
    "    result = limiter.get_request_delay(request)\n",
    "    print(request, \" => \", result)"
   ]
  },
  {
   "cell_type": "code",
   "execution_count": 96,
   "metadata": {
    "slideshow": {
     "slide_type": "slide"
    }
   },
   "outputs": [
    {
     "name": "stdout",
     "output_type": "stream",
     "text": [
      "0 1.0\n"
     ]
    }
   ],
   "source": [
    "import utils\n",
    "\n",
    "request_intervals = [\n",
    "    (0, 3, 5),\n",
    "    (3, 5, 8),\n",
    "    (5, 6, 7),\n",
    "    (6, 10, 4),\n",
    "    (10, 12, 3),\n",
    "    (12, 13, 7),\n",
    "    (13, 14, 12),\n",
    "    (14, 18, 4)\n",
    "]\n",
    "request_times = utils.combine_lists(*[utils.generate_times(*interval) for interval in \n",
    "                                      request_intervals])\n",
    "\n",
    "zones = {'login': {'size': 1000, 'rate': 5}}\n",
    "resources = {'/login': {'zone': 'login', 'burst': 12, 'delay': 8}}\n",
    "limiter = static.RequestLimiter(zones, resources)\n",
    "(fails, success_rate) = utils.try_requests(limiter, [(time, 0, '/login') for time in request_times])\n",
    "print(fails, success_rate)"
   ]
  },
  {
   "cell_type": "code",
   "execution_count": 226,
   "metadata": {
    "slideshow": {
     "slide_type": "subslide"
    }
   },
   "outputs": [
    {
     "name": "stdout",
     "output_type": "stream",
     "text": [
      "0.626375\n"
     ]
    }
   ],
   "source": [
    "request_times = utils.generate_times(0, 1000, 8)\n",
    "zones = {'login': {'size': 1000, 'rate': 5}}\n",
    "resources = {'/login': {'zone': 'login', 'burst': 12, 'delay': 8}}\n",
    "limiter = static.RequestLimiter(zones, resources)\n",
    "(fails, success_rate) = utils.try_requests(limiter, [(time, 0, '/login') for time in request_times])\n",
    "print(success_rate)"
   ]
  },
  {
   "cell_type": "code",
   "execution_count": 111,
   "metadata": {
    "slideshow": {
     "slide_type": "skip"
    }
   },
   "outputs": [],
   "source": [
    "import random"
   ]
  },
  {
   "cell_type": "code",
   "execution_count": 220,
   "metadata": {
    "slideshow": {
     "slide_type": "subslide"
    }
   },
   "outputs": [
    {
     "name": "stdout",
     "output_type": "stream",
     "text": [
      "0 1.0\n"
     ]
    }
   ],
   "source": [
    "sample = random.choices(\n",
    "    [0,   1,    2,   3,    39,    40,    83,    94],\n",
    "    [60, 16, 10, 10, 1,  1,  1,  1],\n",
    "    k=6000\n",
    ")\n",
    "request_times = utils.generate_times_from_sample(sample)\n",
    "zones = {'login': {'size': 1000, 'rate': 5}}\n",
    "resources = {'/login': {'zone': 'login', 'burst': 100, 'delay': 10}}\n",
    "limiter = static.RequestLimiter(zones, resources)\n",
    "(fails, success_rate) = utils.try_requests(limiter, [(time, 0, '/login') for time in request_times])\n",
    "print(fails, success_rate)"
   ]
  },
  {
   "cell_type": "markdown",
   "metadata": {
    "slideshow": {
     "slide_type": "slide"
    }
   },
   "source": [
    "# Декораторы для корутин"
   ]
  },
  {
   "cell_type": "code",
   "execution_count": null,
   "metadata": {
    "slideshow": {
     "slide_type": "subslide"
    }
   },
   "outputs": [],
   "source": [
    "from aioleakybucket.dynamic\n",
    "zones = {'login': {'size': 1000, 'rate': 5}}\n",
    "dynamic.config(zones)\n",
    "\n",
    "@dynamic.limit_calls('ip', 'login', 100, 8)\n",
    "async def target_function(ip):\n",
    "    # Time-consuming calculation\n",
    "    await queue.put({'a': 1, '2': ['b', [13]]})\n",
    "    task = await queue.get()\n",
    "    await task.ack()\n",
    "    return task.payload"
   ]
  },
  {
   "cell_type": "markdown",
   "metadata": {
    "slideshow": {
     "slide_type": "slide"
    }
   },
   "source": [
    "# Спасибо за внимание!"
   ]
  }
 ],
 "metadata": {
  "celltoolbar": "Slideshow",
  "kernelspec": {
   "display_name": "Python 3",
   "language": "python",
   "name": "python3"
  },
  "language_info": {
   "codemirror_mode": {
    "name": "ipython",
    "version": 3
   },
   "file_extension": ".py",
   "mimetype": "text/x-python",
   "name": "python",
   "nbconvert_exporter": "python",
   "pygments_lexer": "ipython3",
   "version": "3.7.0"
  }
 },
 "nbformat": 4,
 "nbformat_minor": 2
}
